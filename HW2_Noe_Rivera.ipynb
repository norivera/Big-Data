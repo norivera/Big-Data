{
 "cells": [
  {
   "cell_type": "code",
   "execution_count": 24,
   "id": "ad5920e5",
   "metadata": {},
   "outputs": [
    {
     "name": "stdout",
     "output_type": "stream",
     "text": [
      "Overwriting question1.py\n"
     ]
    }
   ],
   "source": [
    "%%file question1.py\n",
    "import re\n",
    "import json\n",
    "\n",
    "Col = ['A','B','C','D','E','F','G','H','I','J']\n",
    "Row = ['K','L','M','N','O','P','Q','R','S','T']\n",
    "\n",
    "from mrjob.job import MRJob\n",
    "\n",
    "class Part1(MRJob):\n",
    "\n",
    "    def mapper(self, _, line):\n",
    "        array = line.split(',')\n",
    "        COL = array[0]\n",
    "        ROW = array[1]\n",
    "        val = array[2]\n",
    "        yield str(COL), {int(val)}\n",
    "        yield str(ROW), {int(val)}\n",
    "\n",
    "    def reducer(self, key, values):\n",
    "        \n",
    "if __name__ == '__main__':\n",
    "    Part1.run()"
   ]
  },
  {
   "cell_type": "code",
   "execution_count": 25,
   "id": "89d9e953",
   "metadata": {},
   "outputs": [
    {
     "name": "stderr",
     "output_type": "stream",
     "text": [
      "No configs found; falling back on auto-configuration\n",
      "No configs specified for inline runner\n",
      "Creating temp directory C:\\Users\\Noe\\AppData\\Local\\Temp\\question1.Noe.20230307.003516.221010\n",
      "Running step 1 of 1...\n",
      "\n",
      "Error while reading from C:\\Users\\Noe\\AppData\\Local\\Temp\\question1.Noe.20230307.003516.221010\\step\\000\\reducer\\00000\\input:\n",
      "\n",
      "Traceback (most recent call last):\n",
      "  File \"C:\\Users\\Noe\\Desktop\\Big Data HW1\\question1.py\", line 40, in <module>\n",
      "    Part1.run()\n",
      "  File \"C:\\Users\\Noe\\anaconda3\\envs\\BigData\\lib\\site-packages\\mrjob\\job.py\", line 616, in run\n",
      "    cls().execute()\n",
      "  File \"C:\\Users\\Noe\\anaconda3\\envs\\BigData\\lib\\site-packages\\mrjob\\job.py\", line 687, in execute\n",
      "    self.run_job()\n",
      "  File \"C:\\Users\\Noe\\anaconda3\\envs\\BigData\\lib\\site-packages\\mrjob\\job.py\", line 636, in run_job\n",
      "    runner.run()\n",
      "  File \"C:\\Users\\Noe\\anaconda3\\envs\\BigData\\lib\\site-packages\\mrjob\\runner.py\", line 503, in run\n",
      "    self._run()\n",
      "  File \"C:\\Users\\Noe\\anaconda3\\envs\\BigData\\lib\\site-packages\\mrjob\\sim.py\", line 161, in _run\n",
      "    self._run_step(step, step_num)\n",
      "  File \"C:\\Users\\Noe\\anaconda3\\envs\\BigData\\lib\\site-packages\\mrjob\\sim.py\", line 170, in _run_step\n",
      "    self._run_streaming_step(step, step_num)\n",
      "  File \"C:\\Users\\Noe\\anaconda3\\envs\\BigData\\lib\\site-packages\\mrjob\\sim.py\", line 187, in _run_streaming_step\n",
      "    self._run_reducers(step_num, num_reducer_tasks)\n",
      "  File \"C:\\Users\\Noe\\anaconda3\\envs\\BigData\\lib\\site-packages\\mrjob\\sim.py\", line 289, in _run_reducers\n",
      "    self._run_multiple(\n",
      "  File \"C:\\Users\\Noe\\anaconda3\\envs\\BigData\\lib\\site-packages\\mrjob\\sim.py\", line 130, in _run_multiple\n",
      "    func()\n",
      "  File \"C:\\Users\\Noe\\anaconda3\\envs\\BigData\\lib\\site-packages\\mrjob\\sim.py\", line 746, in _run_task\n",
      "    invoke_task(\n",
      "  File \"C:\\Users\\Noe\\anaconda3\\envs\\BigData\\lib\\site-packages\\mrjob\\inline.py\", line 133, in invoke_task\n",
      "    task.execute()\n",
      "  File \"C:\\Users\\Noe\\anaconda3\\envs\\BigData\\lib\\site-packages\\mrjob\\job.py\", line 681, in execute\n",
      "    self.run_reducer(self.options.step_num)\n",
      "  File \"C:\\Users\\Noe\\anaconda3\\envs\\BigData\\lib\\site-packages\\mrjob\\job.py\", line 795, in run_reducer\n",
      "    for k, v in self.reduce_pairs(read_lines(), step_num=step_num):\n",
      "  File \"C:\\Users\\Noe\\anaconda3\\envs\\BigData\\lib\\site-packages\\mrjob\\job.py\", line 866, in reduce_pairs\n",
      "    for k, v in self._combine_or_reduce_pairs(pairs, 'reducer', step_num):\n",
      "  File \"C:\\Users\\Noe\\anaconda3\\envs\\BigData\\lib\\site-packages\\mrjob\\job.py\", line 889, in _combine_or_reduce_pairs\n",
      "    for k, v in task(key, values) or ():\n",
      "  File \"C:\\Users\\Noe\\Desktop\\Big Data HW1\\question1.py\", line 25, in reducer\n",
      "    if int(Max) == int(x):\n",
      "TypeError: int() argument must be a string, a bytes-like object or a number, not 'list'\n"
     ]
    }
   ],
   "source": [
    "!python question1.py cs4650hw1.dat"
   ]
  },
  {
   "cell_type": "code",
   "execution_count": null,
   "id": "1646bace",
   "metadata": {},
   "outputs": [],
   "source": []
  }
 ],
 "metadata": {
  "kernelspec": {
   "display_name": "Python 3 (ipykernel)",
   "language": "python",
   "name": "python3"
  },
  "language_info": {
   "codemirror_mode": {
    "name": "ipython",
    "version": 3
   },
   "file_extension": ".py",
   "mimetype": "text/x-python",
   "name": "python",
   "nbconvert_exporter": "python",
   "pygments_lexer": "ipython3",
   "version": "3.9.16"
  }
 },
 "nbformat": 4,
 "nbformat_minor": 5
}
